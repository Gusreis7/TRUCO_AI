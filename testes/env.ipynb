{
 "cells": [
  {
   "cell_type": "code",
   "execution_count": 12,
   "metadata": {},
   "outputs": [],
   "source": [
    "import numpy as np\n",
    "import random"
   ]
  },
  {
   "cell_type": "code",
   "execution_count": 21,
   "metadata": {},
   "outputs": [],
   "source": [
    "#ordenados pela ordem de poder do jogo########\n",
    "naipes = ['trevo','coração','copa','ouro']\n",
    "manilhas = [4,7,1,7]\n",
    "cartas = [3,2,1,'j','q','k'] #11-J - 12-Q - 13-K\n",
    "###############################################\n",
    "baralho = {}\n",
    "\n",
    "nivel = 10\n",
    "for naipe, manilha in zip(naipes,manilhas):\n",
    "    baralho[(manilha,naipe)] = nivel\n",
    "    nivel-=1\n",
    "\n",
    "nivel = len(cartas)\n",
    "for carta in cartas:\n",
    "    for naipe in naipes:\n",
    "        if (carta,naipe) not in baralho.keys():\n",
    "            baralho[(carta,naipe)] = nivel\n",
    "    nivel-=1"
   ]
  },
  {
   "cell_type": "code",
   "execution_count": 22,
   "metadata": {},
   "outputs": [
    {
     "name": "stdout",
     "output_type": "stream",
     "text": [
      "(4, 'trevo') : 10\n",
      "(7, 'coração') : 9\n",
      "(1, 'copa') : 8\n",
      "(7, 'ouro') : 7\n",
      "(3, 'trevo') : 6\n",
      "(3, 'coração') : 6\n",
      "(3, 'copa') : 6\n",
      "(3, 'ouro') : 6\n",
      "(2, 'trevo') : 5\n",
      "(2, 'coração') : 5\n",
      "(2, 'copa') : 5\n",
      "(2, 'ouro') : 5\n",
      "(1, 'trevo') : 4\n",
      "(1, 'coração') : 4\n",
      "(1, 'ouro') : 4\n",
      "('j', 'trevo') : 3\n",
      "('j', 'coração') : 3\n",
      "('j', 'copa') : 3\n",
      "('j', 'ouro') : 3\n",
      "('q', 'trevo') : 2\n",
      "('q', 'coração') : 2\n",
      "('q', 'copa') : 2\n",
      "('q', 'ouro') : 2\n",
      "('k', 'trevo') : 1\n",
      "('k', 'coração') : 1\n",
      "('k', 'copa') : 1\n",
      "('k', 'ouro') : 1\n"
     ]
    }
   ],
   "source": [
    "for key in baralho.keys():\n",
    "    print(f'{key} : {baralho[key]}')"
   ]
  },
  {
   "cell_type": "code",
   "execution_count": 41,
   "metadata": {},
   "outputs": [
    {
     "name": "stdout",
     "output_type": "stream",
     "text": [
      "[(7, 'ouro'), (7, 'coração'), ('j', 'trevo')]\n",
      "[(4, 'trevo'), ('q', 'copa'), ('k', 'ouro')]\n"
     ]
    },
    {
     "name": "stderr",
     "output_type": "stream",
     "text": [
      "/tmp/ipykernel_13324/2469938725.py:1: DeprecationWarning: Sampling from a set deprecated\n",
      "since Python 3.9 and will be removed in a subsequent version.\n",
      "  cartas_sorteadas = random.sample(baralho.keys(), k =6)\n"
     ]
    }
   ],
   "source": [
    "cartas_sorteadas = random.sample(baralho.keys(), k =6)\n",
    "mao1 = cartas_sorteadas[0:3]\n",
    "mao2 = cartas_sorteadas[3:]\n",
    "print(mao1)\n",
    "print(mao2)"
   ]
  },
  {
   "cell_type": "code",
   "execution_count": null,
   "metadata": {},
   "outputs": [],
   "source": []
  }
 ],
 "metadata": {
  "kernelspec": {
   "display_name": "study",
   "language": "python",
   "name": "python3"
  },
  "language_info": {
   "codemirror_mode": {
    "name": "ipython",
    "version": 3
   },
   "file_extension": ".py",
   "mimetype": "text/x-python",
   "name": "python",
   "nbconvert_exporter": "python",
   "pygments_lexer": "ipython3",
   "version": "3.9.0"
  }
 },
 "nbformat": 4,
 "nbformat_minor": 2
}
