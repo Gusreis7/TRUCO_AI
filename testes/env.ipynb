{
 "cells": [
  {
   "cell_type": "code",
   "execution_count": 1,
   "metadata": {},
   "outputs": [],
   "source": [
    "import numpy as np\n",
    "import random"
   ]
  },
  {
   "cell_type": "code",
   "execution_count": 5,
   "metadata": {},
   "outputs": [],
   "source": [
    "#ordenados pela ordem de poder do jogo########\n",
    "naipes = ['trevo','coração','copa','ouro']\n",
    "manilhas = [4,7,1,7]\n",
    "cartas = [3,2,'a','j','q','k'] \n",
    "###############################################\n",
    "baralho = {}\n",
    "\n",
    "nivel = len(manilhas) + len(cartas)\n",
    "for naipe, manilha in zip(naipes,manilhas):\n",
    "    baralho[(manilha,naipe)] = nivel\n",
    "    nivel-=1\n",
    "\n",
    "for carta in cartas:\n",
    "    for naipe in naipes:\n",
    "        if (carta,naipe) not in baralho.keys():\n",
    "            baralho[(carta,naipe)] = nivel\n",
    "    nivel-=1"
   ]
  },
  {
   "cell_type": "code",
   "execution_count": 6,
   "metadata": {},
   "outputs": [
    {
     "name": "stdout",
     "output_type": "stream",
     "text": [
      "(4, 'trevo') : 10\n",
      "(7, 'coração') : 9\n",
      "(1, 'copa') : 8\n",
      "(7, 'ouro') : 7\n",
      "(3, 'trevo') : 6\n",
      "(3, 'coração') : 6\n",
      "(3, 'copa') : 6\n",
      "(3, 'ouro') : 6\n",
      "(2, 'trevo') : 5\n",
      "(2, 'coração') : 5\n",
      "(2, 'copa') : 5\n",
      "(2, 'ouro') : 5\n",
      "('a', 'trevo') : 4\n",
      "('a', 'coração') : 4\n",
      "('a', 'copa') : 4\n",
      "('a', 'ouro') : 4\n",
      "('j', 'trevo') : 3\n",
      "('j', 'coração') : 3\n",
      "('j', 'copa') : 3\n",
      "('j', 'ouro') : 3\n",
      "('q', 'trevo') : 2\n",
      "('q', 'coração') : 2\n",
      "('q', 'copa') : 2\n",
      "('q', 'ouro') : 2\n",
      "('k', 'trevo') : 1\n",
      "('k', 'coração') : 1\n",
      "('k', 'copa') : 1\n",
      "('k', 'ouro') : 1\n"
     ]
    }
   ],
   "source": [
    "for key in baralho.keys():\n",
    "    print(f'{key} : {baralho[key]}')"
   ]
  },
  {
   "cell_type": "code",
   "execution_count": 16,
   "metadata": {},
   "outputs": [],
   "source": [
    "cartas = list(baralho.keys())\n",
    "random.shuffle(cartas)"
   ]
  },
  {
   "cell_type": "code",
   "execution_count": 51,
   "metadata": {},
   "outputs": [
    {
     "data": {
      "text/plain": [
       "[(3, 'coração'),\n",
       " (2, 'trevo'),\n",
       " (4, 'trevo'),\n",
       " (2, 'copa'),\n",
       " ('a', 'ouro'),\n",
       " (3, 'ouro'),\n",
       " ('q', 'coração'),\n",
       " (1, 'copa'),\n",
       " ('q', 'copa'),\n",
       " ('a', 'coração'),\n",
       " (2, 'coração'),\n",
       " ('j', 'ouro'),\n",
       " (3, 'copa'),\n",
       " ('k', 'copa'),\n",
       " (3, 'trevo'),\n",
       " ('k', 'ouro'),\n",
       " ('a', 'trevo'),\n",
       " ('j', 'trevo'),\n",
       " ('q', 'ouro'),\n",
       " ('k', 'coração'),\n",
       " ('a', 'copa'),\n",
       " (7, 'ouro'),\n",
       " ('j', 'coração'),\n",
       " (7, 'coração'),\n",
       " (2, 'ouro'),\n",
       " ('q', 'trevo'),\n",
       " ('k', 'trevo'),\n",
       " ('j', 'copa')]"
      ]
     },
     "execution_count": 51,
     "metadata": {},
     "output_type": "execute_result"
    }
   ],
   "source": [
    "cartas"
   ]
  },
  {
   "cell_type": "code",
   "execution_count": 108,
   "metadata": {},
   "outputs": [],
   "source": [
    "def distribui_cartas(baralho):\n",
    "    qtd_cartas = 3\n",
    "    cartas_selecionadas = baralho[0:qtd_cartas]\n",
    "    all_letters = True\n",
    "    letras = 0\n",
    "    while all_letters:\n",
    "        for carta in cartas_selecionadas:\n",
    "            insignia = carta[0]\n",
    "            if type(insignia) != int:\n",
    "                letras+=1\n",
    "        if letras == 3:\n",
    "            all_letters = True\n",
    "            letras = 0\n",
    "            cartas_selecionadas = baralho[qtd_cartas:qtd_cartas+qtd_cartas]\n",
    "            qtd_cartas+=qtd_cartas\n",
    "        else:\n",
    "            all_letters = False\n",
    "        print(letras)\n",
    "\n",
    "    print(\"Selecionadas\")\n",
    "    print(cartas_selecionadas)"
   ]
  },
  {
   "cell_type": "code",
   "execution_count": 111,
   "metadata": {},
   "outputs": [
    {
     "name": "stdout",
     "output_type": "stream",
     "text": [
      "0\n",
      "0\n",
      "Selecionadas\n",
      "[(3, 'trevo'), (2, 'coração'), (3, 'ouro')]\n"
     ]
    }
   ],
   "source": [
    "cartas = list(baralho.keys())\n",
    "random.shuffle(cartas)\n",
    "distribui_cartas(cartas)"
   ]
  },
  {
   "cell_type": "code",
   "execution_count": null,
   "metadata": {},
   "outputs": [],
   "source": []
  }
 ],
 "metadata": {
  "kernelspec": {
   "display_name": "study",
   "language": "python",
   "name": "python3"
  },
  "language_info": {
   "codemirror_mode": {
    "name": "ipython",
    "version": 3
   },
   "file_extension": ".py",
   "mimetype": "text/x-python",
   "name": "python",
   "nbconvert_exporter": "python",
   "pygments_lexer": "ipython3",
   "version": "3.9.0"
  }
 },
 "nbformat": 4,
 "nbformat_minor": 2
}
